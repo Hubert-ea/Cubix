{
 "cells": [
  {
   "cell_type": "markdown",
   "metadata": {},
   "source": [
    "## Which 10 companies make the most money? Use two columns: Company name and the sum of the fare. Order by descending order.Make sure that the sum of the fares (total_fare) is not in scientific notation"
   ]
  },
  {
   "cell_type": "code",
   "execution_count": null,
   "metadata": {
    "vscode": {
     "languageId": "plaintext"
    }
   },
   "outputs": [],
   "source": [
    "SELECT \n",
    "    c.company AS company_name,\n",
    "    CAST(SUM(t.fare) AS DECIMAL(18, 2)) AS total_fare\n",
    "FROM \n",
    "    \"AwsDataCatalog\".\"chicago_taxi_db\".\"taxi_trips\" t\n",
    "JOIN \n",
    "    \"AwsDataCatalog\".\"chicago_taxi_db\".\"company\" c\n",
    "ON \n",
    "    t.company_id = c.company_id\n",
    "GROUP BY \n",
    "    c.company\n",
    "ORDER BY \n",
    "    total_fare DESC\n",
    "LIMIT 10;"
   ]
  },
  {
   "cell_type": "markdown",
   "metadata": {},
   "source": [
    "## Show the 10 pickup community areas with the most rides. Use two columns: community area name and count of rides per area, in descending order for the rides."
   ]
  },
  {
   "cell_type": "code",
   "execution_count": null,
   "metadata": {
    "vscode": {
     "languageId": "plaintext"
    }
   },
   "outputs": [],
   "source": [
    "SELECT \n",
    "    ca.community_name AS community_area_name, \n",
    "    COUNT(t.trip_id) AS ride_count\n",
    "FROM \n",
    "    chicago_taxi_db.taxi_trips t\n",
    "JOIN \n",
    "    chicago_taxi_db.community_areas ca\n",
    "ON \n",
    "    t.pickup_community_area_id = ca.area_code\n",
    "GROUP BY \n",
    "    ca.community_name\n",
    "ORDER BY \n",
    "    ride_count DESC\n",
    "LIMIT 10;"
   ]
  },
  {
   "cell_type": "markdown",
   "metadata": {},
   "source": [
    "## Get the count of taxi rides per day of week. In other words, we'd like to see which day has the most rides. Use the names of the days instead of numbers (Monday = 1, Tuesday = 2, etc.).HINT: Check CASE WHEN statements for replacing names of days. For ordering the results by the day you can use MIN(day_of_the_week)"
   ]
  },
  {
   "cell_type": "code",
   "execution_count": null,
   "metadata": {
    "vscode": {
     "languageId": "plaintext"
    }
   },
   "outputs": [],
   "source": [
    "SELECT\n",
    "    d.dayofweek,      \n",
    "    COUNT(*) AS total_rides\n",
    "FROM taxi_trips t\n",
    "JOIN date d\n",
    "    ON substring(t.trip_start_timestamp, 1, 10) = d.date\n",
    "GROUP BY\n",
    "    d.dayofweek       \n",
    "ORDER BY\n",
    "    MIN(d.dayofweek);"
   ]
  },
  {
   "cell_type": "code",
   "execution_count": null,
   "metadata": {
    "vscode": {
     "languageId": "plaintext"
    }
   },
   "outputs": [],
   "source": []
  },
  {
   "cell_type": "code",
   "execution_count": null,
   "metadata": {
    "vscode": {
     "languageId": "plaintext"
    }
   },
   "outputs": [],
   "source": []
  }
 ],
 "metadata": {
  "language_info": {
   "name": "python"
  }
 },
 "nbformat": 4,
 "nbformat_minor": 2
}
