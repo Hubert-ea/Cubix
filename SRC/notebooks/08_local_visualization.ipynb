{
 "cells": [
  {
   "cell_type": "code",
   "execution_count": null,
   "metadata": {},
   "outputs": [],
   "source": [
    "from io import StringIO\n",
    "import os\n",
    "import boto3\n",
    "import pandas as pd"
   ]
  },
  {
   "cell_type": "code",
   "execution_count": null,
   "metadata": {},
   "outputs": [],
   "source": [
    "aws_access_key_id=os.getenv(\"AWS_ACCESS_KEY\")\n",
    "aws_secret_key=os.getenv(\"AWS_SECRET_KEY\")"
   ]
  },
  {
   "cell_type": "code",
   "execution_count": null,
   "metadata": {},
   "outputs": [],
   "source": [
    "aws_access_key_id"
   ]
  },
  {
   "cell_type": "code",
   "execution_count": null,
   "metadata": {},
   "outputs": [],
   "source": [
    "def read_csv_from_s3(bucket: str,path: str, filename:str) ->pd.DataFrame:\n",
    "    \n",
    "    s3=boto3.client(\"s3\",aws_access_key_id=aws_access_key_id,aws_secret_access_key=aws_secret_key) \n",
    "    full_path = f\"{path}{filename}\"\n",
    "    \n",
    "    object = s3.get_object(Bucket=bucket, Key=full_path)\n",
    "    object = object[\"Body\"].read().decode(\"utf-8\")\n",
    "    output_df = pd.read_csv(StringIO(object))\n",
    "\n",
    "    return output_df"
   ]
  },
  {
   "cell_type": "code",
   "execution_count": null,
   "metadata": {},
   "outputs": [],
   "source": [
    "s3=boto3.client(\"s3\",aws_access_key_id=aws_access_key_id,aws_secret_access_key=aws_secret_key) \n",
    "\n",
    "bucket=\"dataengineerea\"\n",
    "\n",
    "\n",
    "community_areas_path= \"transformed_data/community_areas/\"\n",
    "company_path=\"transformed_data/company/\"\n",
    "date_path=\"transformed_data/date/\"\n",
    "payment_type_path=\"transformed_data/payment_type/\"\n",
    "taxi_trips_path=\"transformed_data/taxi_trips/\"\n",
    "weather_path=\"transformed_data/weather/\""
   ]
  },
  {
   "cell_type": "code",
   "execution_count": null,
   "metadata": {},
   "outputs": [],
   "source": [
    "community_areas=payment_type = read_csv_from_s3(bucket=bucket,path=community_areas_path,filename=\"community_areas_master.csv\")\n",
    "company = read_csv_from_s3(bucket=bucket,path=company_path,filename=\"company_master.csv\")\n",
    "#date = read_csv_from_s3(bucket=bucket,path=date_path,filename=\"date_dimension.csv\")\n",
    "payment_type = read_csv_from_s3(bucket=bucket,path=paymnet_type_path,filename=\"payment_type_master.csv\")"
   ]
  },
  {
   "cell_type": "code",
   "execution_count": null,
   "metadata": {},
   "outputs": [],
   "source": [
    "trips_list=[]\n",
    "weather_list=[]"
   ]
  },
  {
   "cell_type": "code",
   "execution_count": null,
   "metadata": {},
   "outputs": [],
   "source": [
    "# Taxi dataa transformation and laoding\n",
    "for file in s3.list_objects(Bucket=bucket, Prefix=taxi_trips_path)[\"Contents\"]:\n",
    "    taxi_trip_key = file['Key']\n",
    "    \n",
    "    if taxi_trip_key.split(\"/\")[-1].strip() !=\"\":\n",
    "        if taxi_trip_key.split(\".\")[1] ==\"csv\":\n",
    "            filename=taxi_trip_key.split(\"/\")[-1]\n",
    "            trip=read_csv_from_s3(bucket, taxi_trips_path , filename)\n",
    "\n",
    "            trips_list.append(trip)\n",
    "            print(f\"{filename} has been added\")"
   ]
  },
  {
   "cell_type": "code",
   "execution_count": null,
   "metadata": {},
   "outputs": [],
   "source": [
    "trips=pd.concat(trips_list, ignore_index=True)"
   ]
  },
  {
   "cell_type": "code",
   "execution_count": null,
   "metadata": {},
   "outputs": [],
   "source": [
    "trips"
   ]
  },
  {
   "cell_type": "code",
   "execution_count": null,
   "metadata": {},
   "outputs": [],
   "source": [
    "#Weather data transformation and loading\n",
    "for file in s3.list_objects(Bucket=bucket, Prefix=weather_path)[\"Contents\"]:\n",
    "    weather_key = file[\"Key\"]\n",
    "    if weather_key.endswith(\".csv\"):\n",
    "        print(f\"Processing file: {weather_key}\")\n",
    "            \n",
    "        filename=weather_key.split(\"/\")[-1]\n",
    "        weather_daily=read_csv_from_s3(bucket, weather_path , filename)\n",
    "        weather_list.append(weather_daily)\n",
    "        print(f\"{filename} has been added\")"
   ]
  },
  {
   "cell_type": "code",
   "execution_count": null,
   "metadata": {},
   "outputs": [],
   "source": [
    "weather=pd.concat(weather_list, ignore_index=True)\n",
    "weather"
   ]
  },
  {
   "cell_type": "code",
   "execution_count": null,
   "metadata": {},
   "outputs": [],
   "source": [
    "trips_full=pd.merge(trips,weather,left_on=\"datetime_for_weather\", right_on=\"datetime\", how=\"inner\")\n",
    "trips_full=trips_full.drop(columns=[\"datetime\"])\n",
    "trips_full.head()"
   ]
  },
  {
   "cell_type": "code",
   "execution_count": null,
   "metadata": {},
   "outputs": [],
   "source": []
  },
  {
   "cell_type": "code",
   "execution_count": null,
   "metadata": {},
   "outputs": [],
   "source": []
  },
  {
   "cell_type": "code",
   "execution_count": null,
   "metadata": {},
   "outputs": [],
   "source": []
  },
  {
   "cell_type": "code",
   "execution_count": null,
   "metadata": {},
   "outputs": [],
   "source": []
  }
 ],
 "metadata": {
  "kernelspec": {
   "display_name": "venv",
   "language": "python",
   "name": "python3"
  },
  "language_info": {
   "name": "python",
   "version": "3.12.4"
  }
 },
 "nbformat": 4,
 "nbformat_minor": 2
}
