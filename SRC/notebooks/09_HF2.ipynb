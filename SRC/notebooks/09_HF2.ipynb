{
 "cells": [
  {
   "cell_type": "markdown",
   "metadata": {},
   "source": [
    "## Create a function for reading json from a s3 bucket"
   ]
  },
  {
   "cell_type": "code",
   "execution_count": null,
   "metadata": {},
   "outputs": [],
   "source": [
    "from io import StringIO\n",
    "import json\n",
    "import boto3\n",
    "import pandas as pd"
   ]
  },
  {
   "cell_type": "code",
   "execution_count": null,
   "metadata": {},
   "outputs": [],
   "source": [
    "def read_json_from_s3(bucket: str, key: str) -> dict:\n",
    "    \"\"\"\n",
    "    Reads a JSON file from an S3 bucket and returns the JSON data.\n",
    "\n",
    "    Parameters:\n",
    "        bucket : The name of the S3 bucket.\n",
    "        key : The path of the file in the S3 bucket.\n",
    "\n",
    "    Returns:\n",
    "        dict: The  return is a python dictionary.\n",
    "    \"\"\"\n",
    "    s3 = boto3.client('s3')\n",
    "    response = s3.get_object(Bucket=bucket, Key=key)\n",
    "    content = response[\"Body\"]\n",
    "    return json.loads(content.read())"
   ]
  },
  {
   "cell_type": "code",
   "execution_count": null,
   "metadata": {},
   "outputs": [],
   "source": [
    "def lambda_handler(event, context):\n",
    "    s3=boto3.client(\"s3\") \n",
    "\n",
    "    bucket=\"dataengineerea\"\n",
    "\n",
    "    raw_weather_folder=\"raw_data/to_be_processed/weather_data/\"\n",
    "    row_taxi_trips_folder=\"raw_data/to_be_processed/taxi_data/\"\n",
    "    target_taxi_trips_folder=\"raw_data/processed/taxi_data/\"\n",
    "    target_weather_folder=\"raw_data/processed/weather _data/\"\n",
    "\n",
    "    transformed_taxi_trips_folder=\"transformed_data/taxi_trips/\"\n",
    "    transformed_weather_folder=\"transformed_data/weather/\"\n",
    "    \n",
    "    payment_type_master_folder = \"transformed_data/payment_type/\"\n",
    "    company_master_folder = \"transformed_data/company/\"\n",
    "    \n",
    "    payment_type_master_filename = \"payment_type_master.csv\"\n",
    "    company_master_filename = \"company_master.csv\"\n",
    "    \n",
    "\n",
    "    payment_type_master = read_csv_from_s3(bucket=bucket, path=payment_type_master_folder, filename=payment_type_master_filename)\n",
    "    company_master = read_csv_from_s3(bucket=bucket, path=company_master_folder, filename=company_master_filename)\n",
    "        \n",
    "    for file in s3.list_objects(Bucket=bucket, Prefix=row_taxi_trips_folder)[\"Contents\"]:taxi_trip_key = file['Key']\n",
    "\n",
    "        if taxi_trip_key.split(\"/\")[-1].strip() != \"\":\n",
    "            if taxi_trip_key.split(\".\")[1] == \"json\":\n",
    "                filename = taxi_trip_key.split(\"/\")[-1]\n",
    "\n",
    "                # Use the new function to read JSON data for the taxi_trips\n",
    "                taxi_trip_data_json = read_json_from_s3(bucket, taxi_trip_key)\n",
    "                \n",
    "    \n",
    "    \n",
    "    for file in s3.list_objects(Bucket=bucket, Prefix=raw_weather_folder)[\"Contents\"]:weather_key = file[\"Key\"]\n",
    "        if weather_key.endswith(\".json\"):\n",
    "            print(f\"Processing file: {weather_key}\")\n",
    "            \n",
    "            filename = weather_key.split(\"/\")[-1]\n",
    "            \n",
    "            # Use the new function to read JSON data for weather\n",
    "            weather_data_json = read_json_from_s3(bucket=bucket, key=weather_key)"
   ]
  },
  {
   "cell_type": "code",
   "execution_count": null,
   "metadata": {},
   "outputs": [],
   "source": []
  }
 ],
 "metadata": {
  "kernelspec": {
   "display_name": "venv",
   "language": "python",
   "name": "python3"
  },
  "language_info": {
   "name": "python",
   "version": "3.12.4"
  }
 },
 "nbformat": 4,
 "nbformat_minor": 2
}
